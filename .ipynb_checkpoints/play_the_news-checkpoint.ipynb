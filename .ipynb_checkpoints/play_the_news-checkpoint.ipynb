{
 "cells": [
  {
   "cell_type": "code",
   "execution_count": 1,
   "id": "04bcf02c",
   "metadata": {},
   "outputs": [],
   "source": [
    "import spotipy\n",
    "import webbrowser\n",
    "import json\n",
    "import urllib.request\n",
    "import geocoder\n",
    "from nltk.corpus import stopwords\n",
    "import spotipy.util as util\n",
    "import random"
   ]
  },
  {
   "cell_type": "code",
   "execution_count": 2,
   "id": "5c39d6f8",
   "metadata": {},
   "outputs": [],
   "source": [
    "# only need a json if you are loading multiple keys\n",
    "with open(\"news_key.txt\", \"r\") as file:\n",
    "    key = file.read()"
   ]
  },
  {
   "cell_type": "code",
   "execution_count": 3,
   "id": "51f13a90",
   "metadata": {},
   "outputs": [],
   "source": [
    "country = 'us'\n",
    "url = ('https://newsapi.org/v2/top-headlines?country=' + country + '&apiKey=' + key)\n",
    "request = urllib.request.Request(url)\n",
    "response = urllib.request.urlopen(request)"
   ]
  },
  {
   "cell_type": "code",
   "execution_count": 4,
   "id": "de3a1fd2",
   "metadata": {},
   "outputs": [
    {
     "data": {
      "text/plain": [
       "http.client.HTTPResponse"
      ]
     },
     "execution_count": 4,
     "metadata": {},
     "output_type": "execute_result"
    }
   ],
   "source": [
    "type(response)"
   ]
  },
  {
   "cell_type": "code",
   "execution_count": 5,
   "id": "394c146d",
   "metadata": {},
   "outputs": [],
   "source": [
    "# converting the http response object to a python dictionary\n",
    "headlines = json.loads(response.read())"
   ]
  },
  {
   "cell_type": "code",
   "execution_count": 6,
   "id": "e83c6580",
   "metadata": {},
   "outputs": [
    {
     "data": {
      "text/plain": [
       "{'status': 'ok',\n",
       " 'totalResults': 0,\n",
       " 'articles': [{'title': '150+ best Cyber Monday deals of 2022 — from Amazon to Zappos - Yahoo Life',\n",
       "   'author': 'Izabella Zaydenberg',\n",
       "   'source': {'Id': None, 'Name': 'Yahoo Entertainment'},\n",
       "   'publishedAt': '2022-11-28T14:29:44Z',\n",
       "   'url': 'https://www.yahoo.com/lifestyle/best-cyber-monday-deals-2022-091346024.html'},\n",
       "  {'title': 'Pilot, passenger rescued from plane that crashed into power lines in Montgomery Co. - WTOP',\n",
       "   'author': 'Joshua Barlow',\n",
       "   'source': {'Id': None, 'Name': 'WTOP'},\n",
       "   'publishedAt': '2022-11-28T14:15:00Z',\n",
       "   'url': 'http://wtop.com/montgomery-county/2022/11/outages-in-montgomery-co-after-small-plane-crashes-into-power-lines/'},\n",
       "  {'title': \"Mauna Loa is erupting for the first time since 1984, prompting an ashfall advisory for Hawaii's Big Island - CNN\",\n",
       "   'author': 'Monica Garrett, Dakin Andone',\n",
       "   'source': {'Id': 'cnn', 'Name': 'CNN'},\n",
       "   'publishedAt': '2022-11-28T14:02:00Z',\n",
       "   'url': 'https://www.cnn.com/2022/11/28/weather/hawaii-mauna-loa-volcano-eruption/index.html'},\n",
       "  {'title': 'Nearly 9 out of 10 covid deaths are people over 65 - The Washington Post',\n",
       "   'author': 'Ariana Eunjung Cha, Dan Keating',\n",
       "   'source': {'Id': 'the-washington-post', 'Name': 'The Washington Post'},\n",
       "   'publishedAt': '2022-11-28T14:00:00Z',\n",
       "   'url': 'https://www.washingtonpost.com/health/2022/11/28/covid-who-is-dying/'},\n",
       "  {'title': 'Police officer killed in CA after catfishing girl, killing family - USA TODAY',\n",
       "   'author': 'Natalie Neysa Alund, USA TODAY',\n",
       "   'source': {'Id': 'usa-today', 'Name': 'USA Today'},\n",
       "   'publishedAt': '2022-11-28T13:54:15Z',\n",
       "   'url': 'https://www.usatoday.com/story/news/nation/2022/11/28/police-killed-california-catfishing-girl-killing-family/10788663002/'},\n",
       "  {'title': 'Eagles vs. Packers score, takeaways: Jalen Hurts dominates as Philly earns 10th win; Aaron Rodgers injured - CBS Sports',\n",
       "   'author': 'Tyler Sullivan',\n",
       "   'source': {'Id': None, 'Name': 'CBS Sports'},\n",
       "   'publishedAt': '2022-11-28T13:35:00Z',\n",
       "   'url': 'https://www.cbssports.com/nfl/news/eagles-vs-packers-score-takeaways-jalen-hurts-dominates-as-philly-earns-10th-win-aaron-rodgers-injured/live/'},\n",
       "  {'title': 'Apple to Lose 6 Million iPhone Pros From Tumult at China Plant - Bloomberg',\n",
       "   'author': None,\n",
       "   'source': {'Id': 'bloomberg', 'Name': 'Bloomberg'},\n",
       "   'publishedAt': '2022-11-28T13:21:17Z',\n",
       "   'url': 'https://www.bloomberg.com/tosv2.html?vid=&uuid=f495f784-6f2c-11ed-9cc4-4667766e6257&url=L25ld3MvYXJ0aWNsZXMvMjAyMi0xMS0yOC9hcHBsZS10by1sb3NlLTYtbWlsbGlvbi1pcGhvbmUtcHJvcy1mcm9tLXR1bXVsdC1hdC1jaGluYS1wbGFudA=='},\n",
       "  {'title': \"Arkansas GOP governor says Trump's meeting with Holocaust denier is 'very troubling' and 'empowering' for extremism - CNN\",\n",
       "   'author': 'Devan Cole',\n",
       "   'source': {'Id': 'cnn', 'Name': 'CNN'},\n",
       "   'publishedAt': '2022-11-28T13:07:00Z',\n",
       "   'url': 'https://www.cnn.com/2022/11/27/politics/asa-hutchinson-trump-nick-fuentes-cnntv/index.html'},\n",
       "  {'title': \"Helen Mirren and Harrison Ford star in explosive trailer for 'Yellowstone' prequel '1923' - CNN\",\n",
       "   'author': 'Lianne Kolirin',\n",
       "   'source': {'Id': 'cnn', 'Name': 'CNN'},\n",
       "   'publishedAt': '2022-11-28T12:11:00Z',\n",
       "   'url': 'https://www.cnn.com/2022/11/28/entertainment/1923-trailer-release-scli-intl/index.html'},\n",
       "  {'title': 'Green Sprouts issues recall for 10500 bottles and cups - WFAA',\n",
       "   'author': None,\n",
       "   'source': {'Id': None, 'Name': 'YouTube'},\n",
       "   'publishedAt': '2022-11-28T11:40:33Z',\n",
       "   'url': 'https://www.youtube.com/watch?v=C2cAELKxE8s'},\n",
       "  {'title': \"First lady Jill Biden chooses 'We the People' as theme for White House holiday decorations - CNN\",\n",
       "   'author': 'Kate Bennett',\n",
       "   'source': {'Id': 'cnn', 'Name': 'CNN'},\n",
       "   'publishedAt': '2022-11-28T11:05:00Z',\n",
       "   'url': 'https://www.cnn.com/2022/11/28/politics/jill-biden-white-house-holiday-decorations/index.html'},\n",
       "  {'title': \"Bob Dylan apologises for machine-printed 'signatures' - BBC\",\n",
       "   'author': 'https://www.facebook.com/bbcnews',\n",
       "   'source': {'Id': None, 'Name': 'BBC News'},\n",
       "   'publishedAt': '2022-11-28T10:45:46Z',\n",
       "   'url': 'https://www.bbc.com/news/entertainment-arts-63779904'},\n",
       "  {'title': 'LIST: Houston school districts closed due to citywide boil water notice - KHOU.com',\n",
       "   'author': 'KHOU 11 Staff',\n",
       "   'source': {'Id': None, 'Name': 'KHOU.com'},\n",
       "   'publishedAt': '2022-11-28T10:29:16Z',\n",
       "   'url': 'https://www.khou.com/article/news/education/hisd-clancels-class-boil-water-notice/285-25804468-cee0-45fd-8acc-ed8f4c39640c'},\n",
       "  {'title': 'Improve memory as you age by eating more flavonols, study says - CNN',\n",
       "   'author': 'Sandee LaMotte',\n",
       "   'source': {'Id': 'cnn', 'Name': 'CNN'},\n",
       "   'publishedAt': '2022-11-28T10:09:00Z',\n",
       "   'url': 'https://www.cnn.com/2022/11/28/health/flavonols-memory-boost-wellness/index.html'},\n",
       "  {'title': 'China says BBC reporter did not identify himself as a journalist - Reuters',\n",
       "   'author': None,\n",
       "   'source': {'Id': 'reuters', 'Name': 'Reuters'},\n",
       "   'publishedAt': '2022-11-28T08:58:34Z',\n",
       "   'url': 'https://www.reuters.com/world/china/china-says-bbc-reporter-did-not-identify-himself-journalist-2022-11-28/'},\n",
       "  {'title': 'Exclusive: U.S. weighs sending 100-mile strike weapon to Ukraine - Reuters',\n",
       "   'author': None,\n",
       "   'source': {'Id': 'reuters', 'Name': 'Reuters'},\n",
       "   'publishedAt': '2022-11-28T07:39:00Z',\n",
       "   'url': 'https://www.reuters.com/business/aerospace-defense/100-mile-strike-weapon-weighed-ukraine-arms-makers-wrestle-with-demand-sources-2022-11-28/'},\n",
       "  {'title': 'China eases COVID rules after protests, keeps wider strategy - The Associated Press - en Español',\n",
       "   'author': 'Joe Mcdonald',\n",
       "   'source': {'Id': 'associated-press', 'Name': 'Associated Press'},\n",
       "   'publishedAt': '2022-11-28T07:26:05Z',\n",
       "   'url': 'https://apnews.com/article/health-china-beijing-xi-jinping-shanghai-8d0cbd9eb026f46b24316c573df2e3a2'},\n",
       "  {'title': 'Kim Kardashian breaks silence on controversial Balenciaga kids ad campaign - Page Six',\n",
       "   'author': 'Allie Griffin',\n",
       "   'source': {'Id': None, 'Name': 'Page Six'},\n",
       "   'publishedAt': '2022-11-28T06:36:00Z',\n",
       "   'url': 'https://pagesix.com/2022/11/28/kim-kardashian-breaks-silence-on-controversial-balenciaga-kids-ad-campaign/'}]}"
      ]
     },
     "execution_count": 6,
     "metadata": {},
     "output_type": "execute_result"
    }
   ],
   "source": [
    "headlines"
   ]
  },
  {
   "cell_type": "code",
   "execution_count": 29,
   "id": "b8205c22",
   "metadata": {},
   "outputs": [
    {
     "data": {
      "text/plain": [
       "{'aaron',\n",
       " 'ad',\n",
       " 'advisory',\n",
       " 'age',\n",
       " 'amazon',\n",
       " 'apologises',\n",
       " 'apple',\n",
       " 'arkansas',\n",
       " 'ashfall',\n",
       " 'associated',\n",
       " 'balenciaga',\n",
       " 'bbc',\n",
       " 'best',\n",
       " 'biden',\n",
       " 'big',\n",
       " 'bloomberg',\n",
       " 'bob',\n",
       " 'boil',\n",
       " 'bottles',\n",
       " 'breaks',\n",
       " 'ca',\n",
       " 'campaign',\n",
       " 'catfishing',\n",
       " 'cbs',\n",
       " 'china',\n",
       " 'chooses',\n",
       " 'citywide',\n",
       " 'closed',\n",
       " 'cnn',\n",
       " 'controversial',\n",
       " 'covid',\n",
       " 'crashed',\n",
       " 'cups',\n",
       " 'cyber',\n",
       " 'deals',\n",
       " 'deaths',\n",
       " 'decorations',\n",
       " 'denier',\n",
       " 'districts',\n",
       " 'dominates',\n",
       " 'due',\n",
       " 'dylan',\n",
       " 'eagles',\n",
       " 'earns',\n",
       " 'eases',\n",
       " 'eating',\n",
       " 'en',\n",
       " 'erupting',\n",
       " 'español',\n",
       " 'explosive',\n",
       " 'extremism',\n",
       " 'family',\n",
       " 'first',\n",
       " 'ford',\n",
       " 'gop',\n",
       " 'governor',\n",
       " 'green',\n",
       " 'harrison',\n",
       " 'helen',\n",
       " 'holiday',\n",
       " 'holocaust',\n",
       " 'house',\n",
       " 'houston',\n",
       " 'hurts',\n",
       " 'identify',\n",
       " 'improve',\n",
       " 'injured',\n",
       " 'iphone',\n",
       " 'island',\n",
       " 'issues',\n",
       " 'jalen',\n",
       " 'jill',\n",
       " 'journalist',\n",
       " 'kardashian',\n",
       " 'keeps',\n",
       " 'kids',\n",
       " 'killed',\n",
       " 'killing',\n",
       " 'kim',\n",
       " 'lady',\n",
       " 'life',\n",
       " 'lines',\n",
       " 'loa',\n",
       " 'lose',\n",
       " 'mauna',\n",
       " 'meeting',\n",
       " 'memory',\n",
       " 'million',\n",
       " 'mirren',\n",
       " 'monday',\n",
       " 'montgomery',\n",
       " 'nearly',\n",
       " 'notice',\n",
       " 'officer',\n",
       " 'packers',\n",
       " 'page',\n",
       " 'passenger',\n",
       " 'people',\n",
       " 'philly',\n",
       " 'plane',\n",
       " 'plant',\n",
       " 'police',\n",
       " 'post',\n",
       " 'power',\n",
       " 'prequel',\n",
       " 'press',\n",
       " 'prompting',\n",
       " 'pros',\n",
       " 'recall',\n",
       " 'reporter',\n",
       " 'rescued',\n",
       " 'reuters',\n",
       " 'rodgers',\n",
       " 'rules',\n",
       " 'says',\n",
       " 'school',\n",
       " 'sending',\n",
       " 'silence',\n",
       " 'since',\n",
       " 'six',\n",
       " 'sports',\n",
       " 'sprouts',\n",
       " 'star',\n",
       " 'strategy',\n",
       " 'strike',\n",
       " 'study',\n",
       " 'theme',\n",
       " 'time',\n",
       " 'today',\n",
       " 'trailer',\n",
       " 'tumult',\n",
       " 'ukraine',\n",
       " 'usa',\n",
       " 'washington',\n",
       " 'water',\n",
       " 'weapon',\n",
       " 'weighs',\n",
       " 'wfaa',\n",
       " 'white',\n",
       " 'wider',\n",
       " 'wtop',\n",
       " 'yahoo',\n",
       " 'zappos'}"
      ]
     },
     "execution_count": 29,
     "metadata": {},
     "output_type": "execute_result"
    }
   ],
   "source": [
    "unique_words = set()\n",
    "for headline in headlines['articles']:\n",
    "    for word in headline['title'].lower().split():\n",
    "        if word not in stopwords.words('english') and word.isalpha():\n",
    "            unique_words.add(word)\n",
    "            \n",
    "unique_words"
   ]
  },
  {
   "cell_type": "code",
   "execution_count": 30,
   "id": "d8dc5f01",
   "metadata": {},
   "outputs": [],
   "source": [
    "# make an empty list of my titles\n",
    "article_titles = []\n",
    "for headline in headlines['articles']:\n",
    "    article_titles.append(headline['title'])"
   ]
  },
  {
   "cell_type": "code",
   "execution_count": 31,
   "id": "11b4131b",
   "metadata": {},
   "outputs": [
    {
     "data": {
      "text/plain": [
       "['150+ best Cyber Monday deals of 2022 — from Amazon to Zappos - Yahoo Life',\n",
       " 'Pilot, passenger rescued from plane that crashed into power lines in Montgomery Co. - WTOP',\n",
       " \"Mauna Loa is erupting for the first time since 1984, prompting an ashfall advisory for Hawaii's Big Island - CNN\",\n",
       " 'Nearly 9 out of 10 covid deaths are people over 65 - The Washington Post',\n",
       " 'Police officer killed in CA after catfishing girl, killing family - USA TODAY',\n",
       " 'Eagles vs. Packers score, takeaways: Jalen Hurts dominates as Philly earns 10th win; Aaron Rodgers injured - CBS Sports',\n",
       " 'Apple to Lose 6 Million iPhone Pros From Tumult at China Plant - Bloomberg',\n",
       " \"Arkansas GOP governor says Trump's meeting with Holocaust denier is 'very troubling' and 'empowering' for extremism - CNN\",\n",
       " \"Helen Mirren and Harrison Ford star in explosive trailer for 'Yellowstone' prequel '1923' - CNN\",\n",
       " 'Green Sprouts issues recall for 10500 bottles and cups - WFAA',\n",
       " \"First lady Jill Biden chooses 'We the People' as theme for White House holiday decorations - CNN\",\n",
       " \"Bob Dylan apologises for machine-printed 'signatures' - BBC\",\n",
       " 'LIST: Houston school districts closed due to citywide boil water notice - KHOU.com',\n",
       " 'Improve memory as you age by eating more flavonols, study says - CNN',\n",
       " 'China says BBC reporter did not identify himself as a journalist - Reuters',\n",
       " 'Exclusive: U.S. weighs sending 100-mile strike weapon to Ukraine - Reuters',\n",
       " 'China eases COVID rules after protests, keeps wider strategy - The Associated Press - en Español',\n",
       " 'Kim Kardashian breaks silence on controversial Balenciaga kids ad campaign - Page Six']"
      ]
     },
     "execution_count": 31,
     "metadata": {},
     "output_type": "execute_result"
    }
   ],
   "source": [
    "article_titles"
   ]
  },
  {
   "cell_type": "code",
   "execution_count": 32,
   "id": "c54c0986",
   "metadata": {},
   "outputs": [
    {
     "name": "stdout",
     "output_type": "stream",
     "text": [
      "150+ best Cyber Monday deals of 2022 — from Amazon to Zappos - Yahoo Life\n",
      "Pilot, passenger rescued from plane that crashed into power lines in Montgomery Co. - WTOP\n",
      "Mauna Loa is erupting for the first time since 1984, prompting an ashfall advisory for Hawaii's Big Island - CNN\n",
      "Nearly 9 out of 10 covid deaths are people over 65 - The Washington Post\n",
      "Police officer killed in CA after catfishing girl, killing family - USA TODAY\n",
      "Eagles vs. Packers score, takeaways: Jalen Hurts dominates as Philly earns 10th win; Aaron Rodgers injured - CBS Sports\n",
      "Apple to Lose 6 Million iPhone Pros From Tumult at China Plant - Bloomberg\n",
      "Arkansas GOP governor says Trump's meeting with Holocaust denier is 'very troubling' and 'empowering' for extremism - CNN\n",
      "Helen Mirren and Harrison Ford star in explosive trailer for 'Yellowstone' prequel '1923' - CNN\n",
      "Green Sprouts issues recall for 10500 bottles and cups - WFAA\n",
      "First lady Jill Biden chooses 'We the People' as theme for White House holiday decorations - CNN\n",
      "Bob Dylan apologises for machine-printed 'signatures' - BBC\n",
      "LIST: Houston school districts closed due to citywide boil water notice - KHOU.com\n",
      "Improve memory as you age by eating more flavonols, study says - CNN\n",
      "China says BBC reporter did not identify himself as a journalist - Reuters\n",
      "Exclusive: U.S. weighs sending 100-mile strike weapon to Ukraine - Reuters\n",
      "China eases COVID rules after protests, keeps wider strategy - The Associated Press - en Español\n",
      "Kim Kardashian breaks silence on controversial Balenciaga kids ad campaign - Page Six\n"
     ]
    }
   ],
   "source": [
    "# go through each title/headline\n",
    "for headline in article_titles:\n",
    "    print(headline)"
   ]
  },
  {
   "cell_type": "code",
   "execution_count": 33,
   "id": "9f3f204a",
   "metadata": {},
   "outputs": [
    {
     "name": "stdout",
     "output_type": "stream",
     "text": [
      "150+\n",
      "best\n",
      "Cyber\n",
      "Monday\n",
      "deals\n",
      "of\n",
      "2022\n",
      "—\n",
      "from\n",
      "Amazon\n",
      "to\n",
      "Zappos\n",
      "-\n",
      "Yahoo\n",
      "Life\n"
     ]
    }
   ],
   "source": [
    "# I want to go through each word of each title\n",
    "article_titles[0]\n",
    "for word in article_titles[0].split(\" \"):\n",
    "    print(word)\n",
    "    # .split(\" \"): will prevent python from merely printing each character"
   ]
  },
  {
   "cell_type": "code",
   "execution_count": 34,
   "id": "aec23d0a",
   "metadata": {},
   "outputs": [
    {
     "name": "stdout",
     "output_type": "stream",
     "text": [
      "best\n",
      "cyber\n",
      "monday\n",
      "deals\n",
      "amazon\n",
      "zappos\n",
      "yahoo\n",
      "life\n"
     ]
    }
   ],
   "source": [
    "for word in article_titles[0].lower().split(\" \"):\n",
    "    #is the word not a stopword?\n",
    "    #is the word not a number?\n",
    "       if word not in stopwords.words('english') and word.isalpha():\n",
    "        print(word)"
   ]
  },
  {
   "cell_type": "code",
   "execution_count": 35,
   "id": "056d2382",
   "metadata": {},
   "outputs": [],
   "source": [
    "# nested for loop\n",
    "list_of_words = []\n",
    "# go through each title\n",
    "for title in article_titles:\n",
    "# go through each word\n",
    "    for word in title.lower().split(\" \"):\n",
    "    #is the word not a stopword or number?\n",
    "        if word not in stopwords.words('english') and word.isalpha():\n",
    "            list_of_words.append(word)"
   ]
  },
  {
   "cell_type": "code",
   "execution_count": 36,
   "id": "7e5b856b",
   "metadata": {},
   "outputs": [
    {
     "data": {
      "text/plain": [
       "['best',\n",
       " 'cyber',\n",
       " 'monday',\n",
       " 'deals',\n",
       " 'amazon',\n",
       " 'zappos',\n",
       " 'yahoo',\n",
       " 'life',\n",
       " 'passenger',\n",
       " 'rescued',\n",
       " 'plane',\n",
       " 'crashed',\n",
       " 'power',\n",
       " 'lines',\n",
       " 'montgomery',\n",
       " 'wtop',\n",
       " 'mauna',\n",
       " 'loa',\n",
       " 'erupting',\n",
       " 'first',\n",
       " 'time',\n",
       " 'since',\n",
       " 'prompting',\n",
       " 'ashfall',\n",
       " 'advisory',\n",
       " 'big',\n",
       " 'island',\n",
       " 'cnn',\n",
       " 'nearly',\n",
       " 'covid',\n",
       " 'deaths',\n",
       " 'people',\n",
       " 'washington',\n",
       " 'post',\n",
       " 'police',\n",
       " 'officer',\n",
       " 'killed',\n",
       " 'ca',\n",
       " 'catfishing',\n",
       " 'killing',\n",
       " 'family',\n",
       " 'usa',\n",
       " 'today',\n",
       " 'eagles',\n",
       " 'packers',\n",
       " 'jalen',\n",
       " 'hurts',\n",
       " 'dominates',\n",
       " 'philly',\n",
       " 'earns',\n",
       " 'aaron',\n",
       " 'rodgers',\n",
       " 'injured',\n",
       " 'cbs',\n",
       " 'sports',\n",
       " 'apple',\n",
       " 'lose',\n",
       " 'million',\n",
       " 'iphone',\n",
       " 'pros',\n",
       " 'tumult',\n",
       " 'china',\n",
       " 'plant',\n",
       " 'bloomberg',\n",
       " 'arkansas',\n",
       " 'gop',\n",
       " 'governor',\n",
       " 'says',\n",
       " 'meeting',\n",
       " 'holocaust',\n",
       " 'denier',\n",
       " 'extremism',\n",
       " 'cnn',\n",
       " 'helen',\n",
       " 'mirren',\n",
       " 'harrison',\n",
       " 'ford',\n",
       " 'star',\n",
       " 'explosive',\n",
       " 'trailer',\n",
       " 'prequel',\n",
       " 'cnn',\n",
       " 'green',\n",
       " 'sprouts',\n",
       " 'issues',\n",
       " 'recall',\n",
       " 'bottles',\n",
       " 'cups',\n",
       " 'wfaa',\n",
       " 'first',\n",
       " 'lady',\n",
       " 'jill',\n",
       " 'biden',\n",
       " 'chooses',\n",
       " 'theme',\n",
       " 'white',\n",
       " 'house',\n",
       " 'holiday',\n",
       " 'decorations',\n",
       " 'cnn',\n",
       " 'bob',\n",
       " 'dylan',\n",
       " 'apologises',\n",
       " 'bbc',\n",
       " 'houston',\n",
       " 'school',\n",
       " 'districts',\n",
       " 'closed',\n",
       " 'due',\n",
       " 'citywide',\n",
       " 'boil',\n",
       " 'water',\n",
       " 'notice',\n",
       " 'improve',\n",
       " 'memory',\n",
       " 'age',\n",
       " 'eating',\n",
       " 'study',\n",
       " 'says',\n",
       " 'cnn',\n",
       " 'china',\n",
       " 'says',\n",
       " 'bbc',\n",
       " 'reporter',\n",
       " 'identify',\n",
       " 'journalist',\n",
       " 'reuters',\n",
       " 'weighs',\n",
       " 'sending',\n",
       " 'strike',\n",
       " 'weapon',\n",
       " 'ukraine',\n",
       " 'reuters',\n",
       " 'china',\n",
       " 'eases',\n",
       " 'covid',\n",
       " 'rules',\n",
       " 'keeps',\n",
       " 'wider',\n",
       " 'strategy',\n",
       " 'associated',\n",
       " 'press',\n",
       " 'en',\n",
       " 'español',\n",
       " 'kim',\n",
       " 'kardashian',\n",
       " 'breaks',\n",
       " 'silence',\n",
       " 'controversial',\n",
       " 'balenciaga',\n",
       " 'kids',\n",
       " 'ad',\n",
       " 'campaign',\n",
       " 'page',\n",
       " 'six']"
      ]
     },
     "execution_count": 36,
     "metadata": {},
     "output_type": "execute_result"
    }
   ],
   "source": [
    "list_of_words"
   ]
  },
  {
   "cell_type": "code",
   "execution_count": 37,
   "id": "4ac3e2c9",
   "metadata": {},
   "outputs": [],
   "source": [
    "# how often each word is repeated\n",
    "dict_of_words = {}\n",
    "# go through each title\n",
    "for title in title.lower().split(\" \"):\n",
    "# go through each word\n",
    "    if word not in stopwords.words('english') and word.isalpha():\n",
    "        if word in dict_of_words:\n",
    "            dict_of_words[word] += 1\n",
    "        else:\n",
    "            dict_of_words[word] = 1"
   ]
  },
  {
   "cell_type": "code",
   "execution_count": 38,
   "id": "fdfdf531",
   "metadata": {},
   "outputs": [
    {
     "data": {
      "text/plain": [
       "{'six': 13}"
      ]
     },
     "execution_count": 38,
     "metadata": {},
     "output_type": "execute_result"
    }
   ],
   "source": [
    "dict_of_words"
   ]
  },
  {
   "cell_type": "code",
   "execution_count": 39,
   "id": "e5419f54",
   "metadata": {},
   "outputs": [],
   "source": [
    "# open file with keys and set the path to your credentials JSON file\n",
    "credentials = \"spotify_keys.json\"\n",
    "with open(credentials, \"r\") as keys:\n",
    "    api_tokens = json.load(keys)"
   ]
  },
  {
   "cell_type": "code",
   "execution_count": 40,
   "id": "d75a250e",
   "metadata": {},
   "outputs": [
    {
     "data": {
      "text/plain": [
       "{'username': '1120584804',\n",
       " 'client_id': 'eba89af3272847748b7a94c98482f71c',\n",
       " 'client_secret': '4b65647fdd2742908a8a2359ab58cb97',\n",
       " 'redirect': 'https://www.google.com/'}"
      ]
     },
     "execution_count": 40,
     "metadata": {},
     "output_type": "execute_result"
    }
   ],
   "source": [
    "api_tokens"
   ]
  },
  {
   "cell_type": "code",
   "execution_count": 41,
   "id": "e32d628e",
   "metadata": {},
   "outputs": [],
   "source": [
    "client_id = api_tokens[\"client_id\"]\n",
    "client_secret = api_tokens[\"client_secret\"]\n",
    "redirectURI = api_tokens[\"redirect\"]\n",
    "username = api_tokens[\"username\"]"
   ]
  },
  {
   "cell_type": "code",
   "execution_count": 50,
   "id": "baa49be9",
   "metadata": {},
   "outputs": [],
   "source": [
    "scope = 'user-read-private user-read-playback-state user-modify-playback-state playlist-modify-private user-library-read'\n",
    "token = util.prompt_for_user_token(username, scope, client_id=client_id,\n",
    "                           client_secret=client_secret,\n",
    "                           redirect_uri=redirectURI)"
   ]
  },
  {
   "cell_type": "code",
   "execution_count": 51,
   "id": "d7038a9f",
   "metadata": {},
   "outputs": [],
   "source": [
    "sp = spotipy.Spotify(auth=token)"
   ]
  },
  {
   "cell_type": "code",
   "execution_count": 52,
   "id": "f1f91a09",
   "metadata": {},
   "outputs": [],
   "source": [
    "import random\n",
    "songs = []\n",
    "for x in range(50):\n",
    "    search_term = random.choice(list(unique_words))\n",
    "    searchResults = sp.search(q=\"artist:\" + search_term, type=\"track\")\n",
    "    if len(searchResults['tracks']['items']) > 0:\n",
    "        first_song = searchResults['tracks']['items'][0]\n",
    "        songs.append(first_song['uri'])"
   ]
  },
  {
   "cell_type": "code",
   "execution_count": 53,
   "id": "93aa0867",
   "metadata": {},
   "outputs": [
    {
     "name": "stdout",
     "output_type": "stream",
     "text": [
      "{'snapshot_id': 'Myw1NTkyYzhhZGJlM2M3ODdlYmRlM2NhMjVkZjkyNTgwNjU0YWY1NWE0'}\n"
     ]
    }
   ],
   "source": [
    "my_playlist = sp.user_playlist_create(user=username, name=\"Todays News\", public=False,\n",
    "                                      description=\"Songs for the news\")\n",
    "results = sp.user_playlist_add_tracks(username, my_playlist['id'], songs)\n",
    "print(results)"
   ]
  },
  {
   "cell_type": "code",
   "execution_count": 54,
   "id": "d2543599",
   "metadata": {},
   "outputs": [
    {
     "data": {
      "text/plain": [
       "True"
      ]
     },
     "execution_count": 54,
     "metadata": {},
     "output_type": "execute_result"
    }
   ],
   "source": [
    "webbrowser.open(my_playlist['external_urls']['spotify'])"
   ]
  },
  {
   "cell_type": "code",
   "execution_count": 55,
   "id": "b63859e3",
   "metadata": {},
   "outputs": [],
   "source": [
    "tracks = sp.current_user_saved_tracks(limit=50)"
   ]
  },
  {
   "cell_type": "code",
   "execution_count": 56,
   "id": "92c85c63",
   "metadata": {},
   "outputs": [
    {
     "data": {
      "text/plain": [
       "0"
      ]
     },
     "execution_count": 56,
     "metadata": {},
     "output_type": "execute_result"
    }
   ],
   "source": [
    "len(tracks['items'])"
   ]
  },
  {
   "cell_type": "code",
   "execution_count": null,
   "id": "1209c612",
   "metadata": {},
   "outputs": [],
   "source": []
  },
  {
   "cell_type": "code",
   "execution_count": null,
   "id": "0cd5dab3",
   "metadata": {},
   "outputs": [],
   "source": []
  }
 ],
 "metadata": {
  "kernelspec": {
   "display_name": "Python 3 (ipykernel)",
   "language": "python",
   "name": "python3"
  },
  "language_info": {
   "codemirror_mode": {
    "name": "ipython",
    "version": 3
   },
   "file_extension": ".py",
   "mimetype": "text/x-python",
   "name": "python",
   "nbconvert_exporter": "python",
   "pygments_lexer": "ipython3",
   "version": "3.11.0"
  }
 },
 "nbformat": 4,
 "nbformat_minor": 5
}
